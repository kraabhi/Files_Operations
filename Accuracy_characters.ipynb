{
 "cells": [
  {
   "cell_type": "code",
   "execution_count": null,
   "metadata": {},
   "outputs": [],
   "source": [
    "######Accuracy#######\n",
    "rm(list=ls())\n",
    "\n",
    "#setwd(commandArgs(TRUE)[1])\n",
    "\n",
    "solution <- read.csv(file=commandArgs(TRUE)[2], stringsAsFactors=TRUE,header=TRUE)\n",
    "submission<- read.csv(file=commandArgs(TRUE)[3], stringsAsFactors=TRUE,header=TRUE)\n",
    "\n",
    "mer_all <-merge(x = solution, y = submission, by = \"filename\", all.x = TRUE)\n",
    "\n",
    "public<- mer_all[ which(mer_all$Label=='public'), ]\n",
    "private<- mer_all[ which(mer_all$Label=='private'), ]\n",
    "\n",
    "private_score <- sum(ifelse(private[,2] == private[,4],1,0))/nrow(private)\n",
    "write.csv(private_score, commandArgs(TRUE)[4], row.names=FALSE)\n",
    "\n",
    "public_score <- sum(ifelse(public[,2] == public[,4],1,0))/nrow(public)\n",
    "write.csv(public_score, commandArgs(TRUE)[5], row.names=FALSE)\n"
   ]
  }
 ],
 "metadata": {
  "kernelspec": {
   "display_name": "Python 3",
   "language": "python",
   "name": "python3"
  },
  "language_info": {
   "codemirror_mode": {
    "name": "ipython",
    "version": 3
   },
   "file_extension": ".py",
   "mimetype": "text/x-python",
   "name": "python",
   "nbconvert_exporter": "python",
   "pygments_lexer": "ipython3",
   "version": "3.7.1"
  }
 },
 "nbformat": 4,
 "nbformat_minor": 2
}
