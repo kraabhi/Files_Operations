{
 "cells": [
  {
   "cell_type": "code",
   "execution_count": 14,
   "metadata": {},
   "outputs": [
    {
     "name": "stdout",
     "output_type": "stream",
     "text": [
      "['angrybirds', 'Baloo', 'Bart simpson', 'ben', 'bulbasaur', 'charizard', 'Charlie brown', 'charmander', 'Chicken_little', 'Cinderella', 'darth_vader', 'disney_princes', 'donald_duck', 'Godzilla', 'Goku_1', 'goofy', 'han-solo', 'harry_potter', 'hellokitty', 'itachi', 'John Cena', 'jojosiwa', 'kakashi', 'marilyn_monroe', 'mickey_mouse', 'minions', 'naruto', 'pikachu', 'pokemon', 'popeye', 'power_rangers', 'R2-D2', 'Roman Reigns', 'Scoopy Doo', 'SpongeBob SquarePants', 'squirtle', 'teenage_mutant', 'Tom and Jerry', 'toy_story_characters', 'vampirina', 'vegeta', 'Winnie the poo']\n"
     ]
    }
   ],
   "source": [
    "import os\n",
    "import sys\n",
    "import pandas as pd\n",
    "\n",
    "input_dir         = \"C:/Users/admin/Desktop/practice_problems/public\"\n",
    "output_file       = \"C:/Users/admin/Desktop/practice_problems/public_chracters.csv\"\n",
    "sub_dir           = os.listdir(input_dir)\n",
    "print(sub_dir)\n",
    "final_list        = []\n",
    "\n",
    "for sub in sub_dir:\n",
    "    sub_dir_path  = input_dir+\"/\"+sub\n",
    "    images = os.listdir(sub_dir_path)\n",
    "    for img in images:\n",
    "        final_list.append({'label': img,'category':sub})\n",
    "\n",
    "output_df = pd.DataFrame(final_list)\n",
    "output_df.to_csv(output_file, index=False)"
   ]
  },
  {
   "cell_type": "code",
   "execution_count": null,
   "metadata": {},
   "outputs": [],
   "source": []
  }
 ],
 "metadata": {
  "kernelspec": {
   "display_name": "Python 3",
   "language": "python",
   "name": "python3"
  },
  "language_info": {
   "codemirror_mode": {
    "name": "ipython",
    "version": 3
   },
   "file_extension": ".py",
   "mimetype": "text/x-python",
   "name": "python",
   "nbconvert_exporter": "python",
   "pygments_lexer": "ipython3",
   "version": "3.7.1"
  }
 },
 "nbformat": 4,
 "nbformat_minor": 2
}
